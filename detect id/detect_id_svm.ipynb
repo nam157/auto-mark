{
 "cells": [
  {
   "cell_type": "code",
   "execution_count": 1,
   "id": "c7934c2e",
   "metadata": {},
   "outputs": [
    {
     "ename": "ModuleNotFoundError",
     "evalue": "No module named 'skimage'",
     "output_type": "error",
     "traceback": [
      "\u001b[1;31m---------------------------------------------------------------------------\u001b[0m",
      "\u001b[1;31mModuleNotFoundError\u001b[0m                       Traceback (most recent call last)",
      "\u001b[1;32m~\\AppData\\Local\\Temp/ipykernel_5904/1418404988.py\u001b[0m in \u001b[0;36m<module>\u001b[1;34m\u001b[0m\n\u001b[0;32m      1\u001b[0m \u001b[1;32mimport\u001b[0m \u001b[0mcv2\u001b[0m\u001b[1;33m\u001b[0m\u001b[1;33m\u001b[0m\u001b[0m\n\u001b[0;32m      2\u001b[0m \u001b[1;32mimport\u001b[0m \u001b[0mjoblib\u001b[0m\u001b[1;33m\u001b[0m\u001b[1;33m\u001b[0m\u001b[0m\n\u001b[1;32m----> 3\u001b[1;33m \u001b[1;32mfrom\u001b[0m \u001b[0mskimage\u001b[0m\u001b[1;33m.\u001b[0m\u001b[0mfeature\u001b[0m \u001b[1;32mimport\u001b[0m \u001b[0mhog\u001b[0m\u001b[1;33m\u001b[0m\u001b[1;33m\u001b[0m\u001b[0m\n\u001b[0m\u001b[0;32m      4\u001b[0m \u001b[1;32mimport\u001b[0m \u001b[0mnumpy\u001b[0m \u001b[1;32mas\u001b[0m \u001b[0mnp\u001b[0m\u001b[1;33m\u001b[0m\u001b[1;33m\u001b[0m\u001b[0m\n\u001b[0;32m      5\u001b[0m \u001b[1;32mimport\u001b[0m \u001b[0mmatplotlib\u001b[0m\u001b[1;33m.\u001b[0m\u001b[0mpyplot\u001b[0m \u001b[1;32mas\u001b[0m \u001b[0mplt\u001b[0m\u001b[1;33m\u001b[0m\u001b[1;33m\u001b[0m\u001b[0m\n",
      "\u001b[1;31mModuleNotFoundError\u001b[0m: No module named 'skimage'"
     ]
    }
   ],
   "source": [
    "import cv2\n",
    "import joblib\n",
    "from skimage.feature import hog\n",
    "import numpy as np\n",
    "import matplotlib.pyplot as plt\n",
    "import imutils\n",
    "from math import ceil\n",
    "import sys\n",
    "sys.path.insert(0,'C:/Users/nguye/OneDrive/Code/auto_mark')\n",
    "import crop_image"
   ]
  },
  {
   "cell_type": "code",
   "execution_count": null,
   "id": "6de02e24",
   "metadata": {},
   "outputs": [],
   "source": [
    "!pip install scikit-image"
   ]
  },
  {
   "cell_type": "code",
   "execution_count": null,
   "id": "ad86e2ac",
   "metadata": {},
   "outputs": [],
   "source": [
    "clf,pp =  joblib.load('digits_cls1.pkl')"
   ]
  },
  {
   "cell_type": "code",
   "execution_count": null,
   "id": "7d6165f4",
   "metadata": {},
   "outputs": [],
   "source": [
    "img = cv2.imread('a12.jpg')"
   ]
  },
  {
   "cell_type": "code",
   "execution_count": null,
   "id": "b4e52d45",
   "metadata": {},
   "outputs": [],
   "source": [
    "plt.imshow(img)"
   ]
  },
  {
   "cell_type": "code",
   "execution_count": null,
   "id": "80db0a7f",
   "metadata": {},
   "outputs": [],
   "source": [
    "crop = crop_image.crop_image()\n",
    "a = crop.crop_image_sbd(img)\n",
    "b = crop.split_blocks_sbd(a)\n",
    "a1 = crop.crop_image_md(img)\n",
    "b1 = crop.split_blocks_md(a1)"
   ]
  },
  {
   "cell_type": "code",
   "execution_count": null,
   "id": "0a35eac7",
   "metadata": {},
   "outputs": [],
   "source": [
    "def preprocessing(img,clf):\n",
    "    img_gray = cv2.cvtColor(img,cv2.COLOR_BGR2GRAY)\n",
    "    img_gray = cv2.GaussianBlur(img_gray,(3,3),0)\n",
    "    ret, im_th = cv2.threshold(img_gray, 179, 255, cv2.THRESH_BINARY_INV)\n",
    "    roi = cv2.resize(im_th,(28,28),interpolation=cv2.INTER_AREA)\n",
    "    roi_hog_fd = hog(roi, orientations=9, pixels_per_cell=(14, 14), cells_per_block=(1, 1))\n",
    "    roi_hog_fd = pp.transform(np.array([roi_hog_fd], 'float64'))\n",
    "    nbr = clf.predict(roi_hog_fd)\n",
    "    return nbr"
   ]
  },
  {
   "cell_type": "code",
   "execution_count": null,
   "id": "e07fe22e",
   "metadata": {},
   "outputs": [],
   "source": [
    "num_row = 2\n",
    "num_col = 3\n",
    "fig, axes = plt.subplots(num_row, num_col, figsize=(3*num_col,2.5*num_row))\n",
    "for i in range(len(b)):\n",
    "    ax = axes[i//num_col, i%num_col]\n",
    "    ax.imshow(b[i])\n",
    "    ax.set_title('Predict Label: {}'.format(preprocessing(b[i],clf)))\n",
    "plt.tight_layout()\n",
    "plt.show()"
   ]
  },
  {
   "cell_type": "code",
   "execution_count": null,
   "id": "cff80d6b",
   "metadata": {},
   "outputs": [],
   "source": []
  }
 ],
 "metadata": {
  "kernelspec": {
   "display_name": "Python 3 (ipykernel)",
   "language": "python",
   "name": "python3"
  },
  "language_info": {
   "codemirror_mode": {
    "name": "ipython",
    "version": 3
   },
   "file_extension": ".py",
   "mimetype": "text/x-python",
   "name": "python",
   "nbconvert_exporter": "python",
   "pygments_lexer": "ipython3",
   "version": "3.9.7"
  }
 },
 "nbformat": 4,
 "nbformat_minor": 5
}
