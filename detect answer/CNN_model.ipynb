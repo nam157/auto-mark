{
  "cells": [
    {
      "cell_type": "code",
      "execution_count": 73,
      "metadata": {
        "id": "deESVqeDE6Lj"
      },
      "outputs": [],
      "source": [
        "import numpy as np\n",
        "import pandas as pd\n",
        "from pathlib import  Path\n",
        "import cv2\n",
        "from tensorflow.keras.utils import to_categorical"
      ]
    },
    {
      "cell_type": "code",
      "execution_count": 74,
      "metadata": {
        "id": "3O3egmIaFScq"
      },
      "outputs": [],
      "source": [
        "def load_data(path_file):\n",
        "  images = []\n",
        "  labels = []\n",
        "  for img_path in Path(path_file + 'unchoice/').glob(\"*.png\"):\n",
        "    img = cv2.imread(str(img_path), cv2.IMREAD_GRAYSCALE)\n",
        "    img = cv2.resize(img, (28, 28), cv2.INTER_AREA)\n",
        "    img = img.reshape((28, 28, 1))\n",
        "    label = to_categorical(0, num_classes=2)\n",
        "    images.append(img / 255.0)\n",
        "    labels.append(label)\n",
        "  for img_path in Path(path_file + 'choice/').glob(\"*.png\"):\n",
        "    img = cv2.imread(str(img_path), cv2.IMREAD_GRAYSCALE)\n",
        "    img = cv2.resize(img, (28, 28), cv2.INTER_AREA)\n",
        "    img = img.reshape((28, 28, 1))\n",
        "    label = to_categorical(1, num_classes=2)\n",
        "    images.append(img / 255.0)\n",
        "    labels.append(label)\n",
        "\n",
        "  datasets = list(zip(images, labels))\n",
        "  np.random.shuffle(datasets)\n",
        "  images, labels = zip(*datasets)\n",
        "  images = np.array(images)\n",
        "  labels = np.array(labels)\n",
        "  \n",
        "  return images,labels"
      ]
    },
    {
      "cell_type": "code",
      "execution_count": 75,
      "metadata": {
        "id": "hXrqIuPUGX3r"
      },
      "outputs": [],
      "source": [
        "path_file = '/content/drive/MyDrive/DA chuyen nganh/Folder Nam/Code/detect_answers/'"
      ]
    },
    {
      "cell_type": "code",
      "execution_count": 76,
      "metadata": {
        "id": "jBxYCUaxG0DF"
      },
      "outputs": [],
      "source": [
        "images, labels = load_data(path_file)"
      ]
    },
    {
      "cell_type": "code",
      "source": [
        "images.shape"
      ],
      "metadata": {
        "colab": {
          "base_uri": "https://localhost:8080/"
        },
        "id": "_iDmEx4r_k4M",
        "outputId": "ad47d761-51f3-47a6-fc7c-2ec6c64e4798"
      },
      "execution_count": 77,
      "outputs": [
        {
          "output_type": "execute_result",
          "data": {
            "text/plain": [
              "(1494, 28, 28, 1)"
            ]
          },
          "metadata": {},
          "execution_count": 77
        }
      ]
    },
    {
      "cell_type": "code",
      "source": [
        "from tensorflow.keras.models import Sequential\n",
        "from tensorflow.keras.layers import Dense,Conv2D,BatchNormalization,Dropout,Flatten,MaxPooling2D"
      ],
      "metadata": {
        "id": "VMTiFFx7-vFi"
      },
      "execution_count": 78,
      "outputs": []
    },
    {
      "cell_type": "code",
      "source": [
        "model = Sequential()\n",
        "model.add(Conv2D(32,(3,3),activation='relu',input_shape = (28,28,1)))\n",
        "model.add(Conv2D(32,(3,3),activation='relu'))\n",
        "model.add(MaxPooling2D((2,2)))\n",
        "model.add(Dropout(0.2))\n",
        "model.add(Conv2D(64,(3,3),activation='relu'))\n",
        "model.add(Conv2D(64,(3,3),activation='relu'))\n",
        "model.add(MaxPooling2D((2,2)))\n",
        "model.add(Dropout(0.2))\n",
        "model.add(Flatten())\n",
        "model.add(Dense(128,activation='relu'))\n",
        "model.add(Dropout(0.2))\n",
        "model.add(Dense(64,activation='relu'))\n",
        "model.add(Dropout(0.2))\n",
        "model.add(Dense(2,activation='softmax'))\n",
        "model.summary()"
      ],
      "metadata": {
        "colab": {
          "base_uri": "https://localhost:8080/"
        },
        "id": "LUn6syb5-3Rk",
        "outputId": "0834d236-aa86-4506-80cd-3a7fd1527c2c"
      },
      "execution_count": 79,
      "outputs": [
        {
          "output_type": "stream",
          "name": "stdout",
          "text": [
            "Model: \"sequential_9\"\n",
            "_________________________________________________________________\n",
            " Layer (type)                Output Shape              Param #   \n",
            "=================================================================\n",
            " conv2d_44 (Conv2D)          (None, 26, 26, 32)        320       \n",
            "                                                                 \n",
            " conv2d_45 (Conv2D)          (None, 24, 24, 32)        9248      \n",
            "                                                                 \n",
            " max_pooling2d_22 (MaxPoolin  (None, 12, 12, 32)       0         \n",
            " g2D)                                                            \n",
            "                                                                 \n",
            " dropout_38 (Dropout)        (None, 12, 12, 32)        0         \n",
            "                                                                 \n",
            " conv2d_46 (Conv2D)          (None, 10, 10, 64)        18496     \n",
            "                                                                 \n",
            " conv2d_47 (Conv2D)          (None, 8, 8, 64)          36928     \n",
            "                                                                 \n",
            " max_pooling2d_23 (MaxPoolin  (None, 4, 4, 64)         0         \n",
            " g2D)                                                            \n",
            "                                                                 \n",
            " dropout_39 (Dropout)        (None, 4, 4, 64)          0         \n",
            "                                                                 \n",
            " flatten_7 (Flatten)         (None, 1024)              0         \n",
            "                                                                 \n",
            " dense_19 (Dense)            (None, 128)               131200    \n",
            "                                                                 \n",
            " dropout_40 (Dropout)        (None, 128)               0         \n",
            "                                                                 \n",
            " dense_20 (Dense)            (None, 64)                8256      \n",
            "                                                                 \n",
            " dropout_41 (Dropout)        (None, 64)                0         \n",
            "                                                                 \n",
            " dense_21 (Dense)            (None, 2)                 130       \n",
            "                                                                 \n",
            "=================================================================\n",
            "Total params: 204,578\n",
            "Trainable params: 204,578\n",
            "Non-trainable params: 0\n",
            "_________________________________________________________________\n"
          ]
        }
      ]
    },
    {
      "cell_type": "code",
      "source": [
        "model.compile(metrics = 'acc',optimizer='adam',loss = 'categorical_crossentropy')"
      ],
      "metadata": {
        "id": "U4U2JZEA-3cb"
      },
      "execution_count": 80,
      "outputs": []
    },
    {
      "cell_type": "code",
      "source": [
        "model.fit(images,labels,epochs = 15,batch_size = 32,validation_split=0.15,shuffle=True)"
      ],
      "metadata": {
        "colab": {
          "base_uri": "https://localhost:8080/"
        },
        "id": "BKEi0EhA-3gE",
        "outputId": "692fd87a-9817-49f3-f485-ee6b53848b1b"
      },
      "execution_count": 81,
      "outputs": [
        {
          "output_type": "stream",
          "name": "stdout",
          "text": [
            "Epoch 1/15\n",
            "40/40 [==============================] - 2s 18ms/step - loss: 0.2479 - acc: 0.8668 - val_loss: 1.2583e-06 - val_acc: 1.0000\n",
            "Epoch 2/15\n",
            "40/40 [==============================] - 0s 12ms/step - loss: 0.0121 - acc: 0.9968 - val_loss: 4.7308e-04 - val_acc: 1.0000\n",
            "Epoch 3/15\n",
            "40/40 [==============================] - 1s 13ms/step - loss: 4.6875e-04 - acc: 1.0000 - val_loss: 5.4041e-06 - val_acc: 1.0000\n",
            "Epoch 4/15\n",
            "40/40 [==============================] - 1s 13ms/step - loss: 9.7702e-05 - acc: 1.0000 - val_loss: 1.3622e-06 - val_acc: 1.0000\n",
            "Epoch 5/15\n",
            "40/40 [==============================] - 1s 13ms/step - loss: 1.7254e-05 - acc: 1.0000 - val_loss: 7.5658e-07 - val_acc: 1.0000\n",
            "Epoch 6/15\n",
            "40/40 [==============================] - 1s 13ms/step - loss: 1.6478e-05 - acc: 1.0000 - val_loss: 4.7472e-07 - val_acc: 1.0000\n",
            "Epoch 7/15\n",
            "40/40 [==============================] - 0s 12ms/step - loss: 1.6889e-05 - acc: 1.0000 - val_loss: 2.8716e-07 - val_acc: 1.0000\n",
            "Epoch 8/15\n",
            "40/40 [==============================] - 1s 13ms/step - loss: 1.4229e-05 - acc: 1.0000 - val_loss: 1.8226e-07 - val_acc: 1.0000\n",
            "Epoch 9/15\n",
            "40/40 [==============================] - 1s 13ms/step - loss: 1.8167e-05 - acc: 1.0000 - val_loss: 9.4308e-08 - val_acc: 1.0000\n",
            "Epoch 10/15\n",
            "40/40 [==============================] - 1s 13ms/step - loss: 4.6771e-06 - acc: 1.0000 - val_loss: 7.0996e-08 - val_acc: 1.0000\n",
            "Epoch 11/15\n",
            "40/40 [==============================] - 0s 12ms/step - loss: 1.2137e-05 - acc: 1.0000 - val_loss: 3.7087e-08 - val_acc: 1.0000\n",
            "Epoch 12/15\n",
            "40/40 [==============================] - 1s 14ms/step - loss: 2.6376e-06 - acc: 1.0000 - val_loss: 2.5431e-08 - val_acc: 1.0000\n",
            "Epoch 13/15\n",
            "40/40 [==============================] - 1s 13ms/step - loss: 1.5504e-05 - acc: 1.0000 - val_loss: 9.5367e-09 - val_acc: 1.0000\n",
            "Epoch 14/15\n",
            "40/40 [==============================] - 1s 13ms/step - loss: 7.3006e-06 - acc: 1.0000 - val_loss: 4.2386e-09 - val_acc: 1.0000\n",
            "Epoch 15/15\n",
            "40/40 [==============================] - 0s 12ms/step - loss: 3.1362e-06 - acc: 1.0000 - val_loss: 1.5895e-09 - val_acc: 1.0000\n"
          ]
        },
        {
          "output_type": "execute_result",
          "data": {
            "text/plain": [
              "<keras.callbacks.History at 0x7f3b6ab45c50>"
            ]
          },
          "metadata": {},
          "execution_count": 81
        }
      ]
    },
    {
      "cell_type": "code",
      "source": [
        "model.save('/content/drive/MyDrive/DA chuyen nganh/Folder Nam/Code/detect_answers/weight11.h5')"
      ],
      "metadata": {
        "id": "cqfWfmAo-3i4"
      },
      "execution_count": 86,
      "outputs": []
    }
  ],
  "metadata": {
    "colab": {
      "name": "CNN_model",
      "provenance": [],
      "collapsed_sections": []
    },
    "kernelspec": {
      "display_name": "Python 3",
      "name": "python3"
    },
    "language_info": {
      "name": "python"
    },
    "accelerator": "GPU"
  },
  "nbformat": 4,
  "nbformat_minor": 0
}