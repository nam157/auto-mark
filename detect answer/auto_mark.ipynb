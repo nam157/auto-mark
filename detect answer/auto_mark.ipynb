{
  "nbformat": 4,
  "nbformat_minor": 0,
  "metadata": {
    "colab": {
      "name": "auto_mark",
      "provenance": [],
      "collapsed_sections": []
    },
    "kernelspec": {
      "name": "python3",
      "display_name": "Python 3"
    },
    "language_info": {
      "name": "python"
    }
  },
  "cells": [
    {
      "cell_type": "code",
      "metadata": {
        "colab": {
          "base_uri": "https://localhost:8080/"
        },
        "id": "T4FlIMGlP33_",
        "outputId": "25c38097-4870-4520-c6f3-93dab2039df6"
      },
      "source": [
        "from google.colab import drive\n",
        "drive.mount('/content/drive')"
      ],
      "execution_count": 1,
      "outputs": [
        {
          "output_type": "stream",
          "name": "stdout",
          "text": [
            "Drive already mounted at /content/drive; to attempt to forcibly remount, call drive.mount(\"/content/drive\", force_remount=True).\n"
          ]
        }
      ]
    },
    {
      "cell_type": "code",
      "metadata": {
        "id": "leCaEPAOQElI"
      },
      "source": [
        "import imutils\n",
        "import numpy as np\n",
        "import cv2\n",
        "from math import ceil\n",
        "from collections import defaultdict\n",
        "import matplotlib.pyplot as plt"
      ],
      "execution_count": 2,
      "outputs": []
    },
    {
      "cell_type": "code",
      "metadata": {
        "id": "niU9-xeMQMrU"
      },
      "source": [
        "def get_x_ver1(s):\n",
        "    s = cv2.boundingRect(s)\n",
        "    return s[0] * s[1]\n",
        "\n",
        "def get_x(s):\n",
        "  return s[1][0]"
      ],
      "execution_count": 3,
      "outputs": []
    },
    {
      "cell_type": "code",
      "source": [
        "def pre_processing_img(img):\n",
        "  # convert image from BGR to GRAY to apply canny edge detection algorithm\n",
        "    gray_img = cv2.cvtColor(img, cv2.COLOR_BGR2GRAY)\n",
        "\n",
        "    # remove noise by blur image\n",
        "    blurred = cv2.GaussianBlur(gray_img, (5, 5), 0)\n",
        "\n",
        "    # apply canny edge detection algorithm\n",
        "    img_canny = cv2.Canny(blurred, 100, 200)\n",
        "\n",
        "    # find contours\n",
        "    cnts = cv2.findContours(img_canny.copy(), cv2.RETR_TREE, cv2.CHAIN_APPROX_SIMPLE)\n",
        "    cnts = imutils.grab_contours(cnts)\n",
        "    return cnts,gray_img"
      ],
      "metadata": {
        "id": "f__hx1mz2Ibc"
      },
      "execution_count": 4,
      "outputs": []
    },
    {
      "cell_type": "code",
      "metadata": {
        "id": "cavalStsQSr6"
      },
      "source": [
        "def crop_image(img):\n",
        "    cnts,gray_img = pre_processing_img(img)\n",
        "\n",
        "    ans_blocks = []\n",
        "    x_old, y_old, w_old, h_old = 0, 0, 0, 0\n",
        "\n",
        "    # ensure that at least one contour was found\n",
        "    if len(cnts) > 0:\n",
        "        # sort the contours according to their size in descending order\n",
        "        cnts = sorted(cnts, key=get_x_ver1)\n",
        "\n",
        "        # loop over the sorted contours\n",
        "        for i, c in enumerate(cnts):\n",
        "            x_curr, y_curr, w_curr, h_curr = cv2.boundingRect(c)\n",
        "\n",
        "            if w_curr * h_curr > 100000 and w_curr < h_curr:\n",
        "                # check overlap contours\n",
        "                check_xy_min = x_curr * y_curr - x_old * y_old\n",
        "                check_xy_max = (x_curr + w_curr) * (y_curr + h_curr) - (x_old + w_old) * (y_old + h_old)\n",
        "\n",
        "                # if list answer box is empty\n",
        "                if len(ans_blocks) == 0:\n",
        "                    ans_blocks.append(\n",
        "                        (gray_img[y_curr:y_curr + h_curr, x_curr:x_curr + w_curr],[x_curr,y_curr,w_curr,h_curr]))\n",
        "                    # update coordinates (x, y) and (height, width) of added contours\n",
        "                    x_old,y_old,w_old,h_old = x_curr,y_curr,w_curr,h_curr\n",
        "                \n",
        "                elif check_xy_min > 20000 and check_xy_max > 20000:\n",
        "                    ans_blocks.append(\n",
        "                        (gray_img[y_curr:y_curr + h_curr, x_curr:x_curr + w_curr],[x_curr,y_curr,w_curr,h_curr]))\n",
        "                    # update coordinates (x, y) and (height, width) of added contours\n",
        "                    x_old,y_old,w_old,h_old = x_curr,y_curr,w_curr,h_curr\n",
        "\n",
        "        # sort ans_blocks according to x coordinate\n",
        "        sorted_ans_blocks = sorted(ans_blocks, key=get_x)\n",
        "        return sorted_ans_blocks"
      ],
      "execution_count": 5,
      "outputs": []
    },
    {
      "cell_type": "code",
      "metadata": {
        "id": "qEgnC93kQSxj"
      },
      "source": [
        "def divide_ans_blocks(ans_blocks):\n",
        "  \"\"\"\n",
        "  Mỗi blocks đáp án có 6 ô nhỏ mỗi ô nhỏ sẽ có 5 câu \n",
        "  Do 4 blocks có độ dài bằng nhau sẽ chia ra 6 ô nhỏ \n",
        "  \n",
        "  \"\"\"\n",
        "  list_answers = []\n",
        "  for ans_block in ans_blocks:\n",
        "    ans_block_img = np.array(ans_block[0])\n",
        "    offset1 = ceil(ans_block_img.shape[0] / 6)\n",
        "    for i in range(6):\n",
        "        box_img = np.array(ans_block_img[i * offset1:(i + 1) * offset1, :])\n",
        "        height_box = box_img.shape[0]\n",
        "        box_img = box_img[14:height_box-14, :]\n",
        "        offset2 = ceil(box_img.shape[0] / 5)\n",
        "        for j in range(5):\n",
        "          list_answers.append(box_img[j * offset2:(j + 1) * offset2, :])\n",
        "  return list_answers"
      ],
      "execution_count": 6,
      "outputs": []
    },
    {
      "cell_type": "code",
      "metadata": {
        "id": "3dqUpjGXQS2F"
      },
      "source": [
        "def list_ans(list_answers):\n",
        "  \"\"\"\n",
        "    - có 120 câu thì sẽ có 4 đáp án thì tổng sẽ có 120 * 4 = 480\n",
        "    - Để crop mỗi lựa chọn thì lặp qua 4 rồi chọn khoảng crop ra (start lấy tự vị trí đầu cho mỗi đáp án bỏ qua số thứ tự và offset là ví trị kq dừng)\n",
        "  \n",
        "  \"\"\"\n",
        "  list_choices = []\n",
        "  for answer_img in list_answers:\n",
        "    start = 40\n",
        "    offset = 40\n",
        "    for i in range(4):\n",
        "      bubble_choice = answer_img[:,start + i * offset:start + (i + 1) * offset]\n",
        "      bubble_choice = cv2.threshold(bubble_choice, 0, 255, cv2.THRESH_BINARY_INV | cv2.THRESH_OTSU)[1]\n",
        "      bubble_choice = cv2.resize(bubble_choice, (28, 28), cv2.INTER_AREA)\n",
        "      bubble_choice = bubble_choice.reshape((28, 28, 1))\n",
        "      list_choices.append(bubble_choice)\n",
        "  return list_choices"
      ],
      "execution_count": 7,
      "outputs": []
    },
    {
      "cell_type": "code",
      "metadata": {
        "id": "orTuNVZFRrM3"
      },
      "source": [
        "import tensorflow as tf"
      ],
      "execution_count": 8,
      "outputs": []
    },
    {
      "cell_type": "code",
      "metadata": {
        "id": "Lqx_CpEGRO8D"
      },
      "source": [
        "# model  = tf.keras.models.load_model('/content/drive/MyDrive/DA chuyen nganh/Folder Nam/Code/detect_answers/weight.h5')"
      ],
      "execution_count": 9,
      "outputs": []
    },
    {
      "cell_type": "code",
      "metadata": {
        "id": "-BElIBo20TFq"
      },
      "source": [
        "img = cv2.imread('/content/drive/MyDrive/DA chuyen nganh/Folder Nam/Code/detect_answers/1.jpg')\n",
        "img = cv2.resize(img,(1100,1500))\n",
        "ans_blocks = crop_image(img)"
      ],
      "execution_count": 18,
      "outputs": []
    },
    {
      "cell_type": "code",
      "metadata": {
        "id": "Vl_GonA50XEp"
      },
      "source": [
        "# for i in range(len(ans_blocks)):\n",
        "#   plt.figure()\n",
        "#   plt.imshow(ans_blocks[i][0])"
      ],
      "execution_count": null,
      "outputs": []
    },
    {
      "cell_type": "code",
      "metadata": {
        "id": "PVTzFFxcSFYN"
      },
      "source": [
        "list_answer = divide_ans_blocks(ans_blocks)\n",
        "list_answer = list_ans(list_answer)"
      ],
      "execution_count": 12,
      "outputs": []
    },
    {
      "cell_type": "code",
      "metadata": {
        "id": "qn4HFlDqRoa6"
      },
      "source": [
        "# results = defaultdict(list)\n",
        "# list_answers = np.array(list_answer)\n",
        "# scores = model.predict_on_batch(list_answers / 255.0)"
      ],
      "execution_count": 13,
      "outputs": []
    },
    {
      "cell_type": "code",
      "metadata": {
        "id": "UYz8oPslTnB4"
      },
      "source": [
        "def map_answer(idx):\n",
        "    if idx % 4 == 0:\n",
        "        answer_circle = \"A\"\n",
        "    elif idx % 4 == 1:\n",
        "        answer_circle = \"B\"\n",
        "    elif idx % 4 == 2:\n",
        "        answer_circle = \"C\"\n",
        "    else:\n",
        "        answer_circle = \"D\"\n",
        "    return answer_circle"
      ],
      "execution_count": 15,
      "outputs": []
    },
    {
      "cell_type": "code",
      "metadata": {
        "id": "zfj1junzTGvV"
      },
      "source": [
        "def get_answers(list_answers):\n",
        "    results = defaultdict(list)\n",
        "    model  = tf.keras.models.load_model('/content/drive/MyDrive/DA chuyen nganh/Folder Nam/Code/detect_answers/weight11.h5')\n",
        "    list_answers = np.array(list_answers)\n",
        "    scores = model.predict_on_batch(list_answers / 255.0)\n",
        "    for idx, score in enumerate(scores):\n",
        "        question = idx // 4\n",
        "        if score[1] > 0.9:\n",
        "            chosed_answer = map_answer(idx)\n",
        "            results[question + 1].append(chosed_answer)\n",
        "\n",
        "    return results"
      ],
      "execution_count": 16,
      "outputs": []
    },
    {
      "cell_type": "code",
      "metadata": {
        "colab": {
          "base_uri": "https://localhost:8080/"
        },
        "id": "hM39npIoU8Dm",
        "outputId": "465569b5-8493-40c4-8d72-5b42510d456c"
      },
      "source": [
        "get_answers(list_answer)"
      ],
      "execution_count": 17,
      "outputs": [
        {
          "output_type": "execute_result",
          "data": {
            "text/plain": [
              "defaultdict(list,\n",
              "            {1: ['A'],\n",
              "             2: ['B'],\n",
              "             3: ['B'],\n",
              "             5: ['A'],\n",
              "             6: ['C'],\n",
              "             7: ['D'],\n",
              "             8: ['B'],\n",
              "             9: ['A', 'D'],\n",
              "             10: ['C', 'D'],\n",
              "             11: ['C'],\n",
              "             12: ['A'],\n",
              "             13: ['D'],\n",
              "             14: ['B'],\n",
              "             16: ['A'],\n",
              "             17: ['D'],\n",
              "             18: ['B'],\n",
              "             19: ['C'],\n",
              "             20: ['A'],\n",
              "             22: ['B'],\n",
              "             25: ['C'],\n",
              "             26: ['A'],\n",
              "             27: ['C'],\n",
              "             29: ['D'],\n",
              "             30: ['B'],\n",
              "             32: ['B'],\n",
              "             33: ['A'],\n",
              "             34: ['B'],\n",
              "             35: ['C'],\n",
              "             36: ['D'],\n",
              "             37: ['A'],\n",
              "             39: ['B'],\n",
              "             40: ['C'],\n",
              "             42: ['A'],\n",
              "             43: ['B'],\n",
              "             44: ['C'],\n",
              "             45: ['D'],\n",
              "             46: ['C'],\n",
              "             47: ['A'],\n",
              "             49: ['B'],\n",
              "             51: ['B'],\n",
              "             52: ['D'],\n",
              "             53: ['A'],\n",
              "             54: ['B', 'D'],\n",
              "             55: ['C'],\n",
              "             56: ['B'],\n",
              "             57: ['A', 'C'],\n",
              "             58: ['C'],\n",
              "             59: ['A', 'B', 'C', 'D'],\n",
              "             60: ['B', 'C', 'D'],\n",
              "             61: ['B', 'D'],\n",
              "             62: ['A'],\n",
              "             63: ['B'],\n",
              "             64: ['A'],\n",
              "             65: ['C'],\n",
              "             66: ['A'],\n",
              "             68: ['B', 'D'],\n",
              "             69: ['C'],\n",
              "             70: ['A'],\n",
              "             71: ['B'],\n",
              "             72: ['A'],\n",
              "             73: ['D'],\n",
              "             74: ['C'],\n",
              "             75: ['B'],\n",
              "             76: ['B'],\n",
              "             77: ['C'],\n",
              "             78: ['A'],\n",
              "             79: ['D'],\n",
              "             80: ['B', 'C'],\n",
              "             81: ['A', 'D'],\n",
              "             82: ['B'],\n",
              "             83: ['A'],\n",
              "             84: ['C'],\n",
              "             85: ['B', 'D'],\n",
              "             86: ['D'],\n",
              "             87: ['C'],\n",
              "             88: ['A'],\n",
              "             89: ['C'],\n",
              "             90: ['B', 'C', 'D'],\n",
              "             91: ['B', 'D'],\n",
              "             92: ['C'],\n",
              "             94: ['A', 'B', 'C'],\n",
              "             95: ['D'],\n",
              "             96: ['C'],\n",
              "             97: ['A'],\n",
              "             98: ['B'],\n",
              "             99: ['D'],\n",
              "             100: ['A', 'C'],\n",
              "             101: ['B'],\n",
              "             102: ['A'],\n",
              "             103: ['D'],\n",
              "             104: ['C'],\n",
              "             105: ['B'],\n",
              "             106: ['C'],\n",
              "             107: ['A'],\n",
              "             108: ['D'],\n",
              "             109: ['B'],\n",
              "             110: ['A'],\n",
              "             111: ['C'],\n",
              "             112: ['B'],\n",
              "             113: ['A', 'D'],\n",
              "             114: ['B', 'C'],\n",
              "             115: ['A', 'C', 'D'],\n",
              "             116: ['A', 'D'],\n",
              "             117: ['B'],\n",
              "             119: ['B', 'D'],\n",
              "             120: ['A', 'B', 'C']})"
            ]
          },
          "metadata": {},
          "execution_count": 17
        }
      ]
    },
    {
      "cell_type": "code",
      "source": [
        ""
      ],
      "metadata": {
        "id": "tjodlitiFnpP"
      },
      "execution_count": 17,
      "outputs": []
    }
  ]
}